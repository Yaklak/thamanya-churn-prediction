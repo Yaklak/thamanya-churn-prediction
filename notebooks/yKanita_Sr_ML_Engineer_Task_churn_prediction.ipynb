{
 "cells": [
  {
   "cell_type": "code",
   "execution_count": 1,
   "id": "ad3e2aad",
   "metadata": {},
   "outputs": [],
   "source": [
    "import warnings\n",
    "warnings.filterwarnings(\"ignore\")\n",
    "\n",
    "# Plotting functions for autocorrelation and partial autocorrelation\n",
    "from statsmodels.graphics.tsaplots import plot_acf, plot_pacf\n",
    "\n",
    "# General-purpose scientific and data libraries\n",
    "import numpy as np  # Numerical operations\n",
    "import pandas as pd  # Data manipulation\n",
    "from sklearn import metrics  # For model evaluation metrics\n",
    "\n",
    "# Plotting and visualization\n",
    "import matplotlib.pyplot as plt  # For plotting graphs\n",
    "# import plotly.offline as py  # Optional: for interactive plots (commented out)\n",
    "\n",
    "# Configure plots to display inline within Jupyter\n",
    "%matplotlib inline\n",
    "\n",
    "# Statistical visualizations\n",
    "import seaborn as sns"
   ]
  },
  {
   "cell_type": "code",
   "execution_count": 2,
   "id": "94a75821",
   "metadata": {},
   "outputs": [
    {
     "data": {
      "text/plain": [
       "{'events': 120,\n",
       " 'unique_songs': 90,\n",
       " 'unique_artists': 60,\n",
       " 'avg_song_len': 240.0,\n",
       " 'tenure_days': 30,\n",
       " 'plan_tier': 'paid',\n",
       " 'gender': 'M'}"
      ]
     },
     "execution_count": 2,
     "metadata": {},
     "output_type": "execute_result"
    }
   ],
   "source": [
    "{\n",
    "  \"events\": 120,\n",
    "  \"unique_songs\": 90,\n",
    "  \"unique_artists\": 60,\n",
    "  \"avg_song_len\": 240.0,\n",
    "  \"tenure_days\": 30,\n",
    "  \"plan_tier\": \"paid\",\n",
    "  \"gender\": \"M\"\n",
    "}"
   ]
  },
  {
   "cell_type": "code",
   "execution_count": null,
   "id": "16aaf5c5",
   "metadata": {},
   "outputs": [],
   "source": []
  },
  {
   "cell_type": "code",
   "execution_count": null,
   "id": "4a0feabb",
   "metadata": {},
   "outputs": [],
   "source": []
  }
 ],
 "metadata": {
  "kernelspec": {
   "display_name": "Python 3 (ipykernel)",
   "language": "python",
   "name": "python3"
  },
  "language_info": {
   "codemirror_mode": {
    "name": "ipython",
    "version": 3
   },
   "file_extension": ".py",
   "mimetype": "text/x-python",
   "name": "python",
   "nbconvert_exporter": "python",
   "pygments_lexer": "ipython3",
   "version": "3.11.5"
  }
 },
 "nbformat": 4,
 "nbformat_minor": 5
}
